{
 "cells": [
  {
   "cell_type": "code",
   "execution_count": 38,
   "metadata": {},
   "outputs": [],
   "source": [
    "import nltk\n",
    "import pandas as pd\n",
    "import numpy as np"
   ]
  },
  {
   "cell_type": "code",
   "execution_count": 11,
   "metadata": {},
   "outputs": [
    {
     "name": "stdout",
     "output_type": "stream",
     "text": [
      "showing info https://raw.githubusercontent.com/nltk/nltk_data/gh-pages/index.xml\n"
     ]
    },
    {
     "data": {
      "text/plain": [
       "True"
      ]
     },
     "execution_count": 11,
     "metadata": {},
     "output_type": "execute_result"
    }
   ],
   "source": [
    "nltk.download()"
   ]
  },
  {
   "cell_type": "code",
   "execution_count": 4,
   "metadata": {},
   "outputs": [],
   "source": [
    "from textblob import TextBlob"
   ]
  },
  {
   "cell_type": "markdown",
   "metadata": {},
   "source": [
    "# Test Library"
   ]
  },
  {
   "cell_type": "code",
   "execution_count": 17,
   "metadata": {},
   "outputs": [],
   "source": [
    "wiki = TextBlob('Cristhian is happy because his progress in the gym')"
   ]
  },
  {
   "cell_type": "code",
   "execution_count": 18,
   "metadata": {},
   "outputs": [
    {
     "data": {
      "text/plain": [
       "[('Cristhian', 'JJ'),\n",
       " ('is', 'VBZ'),\n",
       " ('happy', 'JJ'),\n",
       " ('because', 'IN'),\n",
       " ('his', 'PRP$'),\n",
       " ('progress', 'NN'),\n",
       " ('in', 'IN'),\n",
       " ('the', 'DT'),\n",
       " ('gym', 'NN')]"
      ]
     },
     "execution_count": 18,
     "metadata": {},
     "output_type": "execute_result"
    }
   ],
   "source": [
    "wiki.tags"
   ]
  },
  {
   "cell_type": "code",
   "execution_count": 19,
   "metadata": {},
   "outputs": [
    {
     "data": {
      "text/plain": [
       "WordList(['Cristhian', 'is', 'happy', 'because', 'his', 'progress', 'in', 'the', 'gym'])"
      ]
     },
     "execution_count": 19,
     "metadata": {},
     "output_type": "execute_result"
    }
   ],
   "source": [
    "wiki.words"
   ]
  },
  {
   "cell_type": "code",
   "execution_count": 20,
   "metadata": {},
   "outputs": [
    {
     "data": {
      "text/plain": [
       "0.8"
      ]
     },
     "execution_count": 20,
     "metadata": {},
     "output_type": "execute_result"
    }
   ],
   "source": [
    "wiki.sentiment.polarity"
   ]
  },
  {
   "cell_type": "markdown",
   "metadata": {},
   "source": [
    "# Working with tweets"
   ]
  },
  {
   "cell_type": "code",
   "execution_count": 31,
   "metadata": {},
   "outputs": [],
   "source": [
    "import tweepy \n",
    "from textblob import TextBlob\n",
    "from setup import  setup\n",
    "\n",
    "consumer_key = setup['consumer_key']\n",
    "consumer_secret = setup['consumer_secret']\n",
    "\n",
    "access_token = setup['access_token']\n",
    "access_token_secret = setup['access_token_secret']\n",
    "\n",
    "auth = tweepy.OAuthHandler(consumer_key,consumer_secret)\n",
    "auth.set_access_token(access_token,access_token_secret)\n",
    "\n",
    "api = tweepy.API(auth)\n",
    "\n",
    "public_tweets = api.search('Trump')\n",
    "\n"
   ]
  },
  {
   "cell_type": "code",
   "execution_count": 41,
   "metadata": {},
   "outputs": [
    {
     "data": {
      "text/plain": [
       "13"
      ]
     },
     "execution_count": 41,
     "metadata": {},
     "output_type": "execute_result"
    }
   ],
   "source": [
    "len(public_tweets)"
   ]
  },
  {
   "cell_type": "code",
   "execution_count": 44,
   "metadata": {},
   "outputs": [
    {
     "name": "stdout",
     "output_type": "stream",
     "text": [
      "RT @laralogan: Ohio Elections Chief Certifies Results of 2020 General Election in Favor of Trump https://t.co/fDIrtsQPFn\n",
      "Sentiment(polarity=0.05000000000000002, subjectivity=0.5)\n",
      "RT @HeatseekB: @realDonaldTrump Dominion voting switched Biden votes to Trump in Miami Dade, FL!!  Biden really got 690 TRILliON VOTES.   T…\n",
      "Sentiment(polarity=0.2, subjectivity=0.2)\n",
      "@newsmax For all of you that think these recounts are an attempt to flip the state, you are gravely mistaken. The r… https://t.co/c4teDN1Ztq\n",
      "Sentiment(polarity=0.0, subjectivity=0.0)\n",
      "@CNNPolitics They call it a New Hoax, ever since Trump converted the White House into the House of Wings.\n",
      "Sentiment(polarity=0.06818181818181818, subjectivity=0.22727272727272727)\n",
      "@TimNaftali @UROCKlive1 Trump threatens their livelihoods. \n",
      "\n",
      "These GOP elected officials many aren't marketable. Th… https://t.co/XB4OR29VUd\n",
      "Sentiment(polarity=0.5, subjectivity=0.5)\n",
      "RT @PamKeithFL: It’s gonna be fun watching Republicans try to claim standing to demand ethics in governance from the Biden admin....as if t…\n",
      "Sentiment(polarity=0.3, subjectivity=0.2)\n",
      "@debyosh @JennaEllisEsq Trump will be in jail by April too. All those skeletons from his taxes &amp; the Trump Organiza… https://t.co/rGh1rGpoPW\n",
      "Sentiment(polarity=-0.1, subjectivity=0.0)\n",
      "RT @eliehonig: Prior presidents have, on occasion, pardoned people who might have been in position to implicate them. But Michael Flynn act…\n",
      "Sentiment(polarity=0.0, subjectivity=0.0)\n",
      "覚醒したの🤩\n",
      "\n",
      "Governor Cuomo says the media is disrespectful to President Trump https://t.co/qHcNkvVR2h via @MailOnline\n",
      "Sentiment(polarity=0.0, subjectivity=0.0)\n",
      "@DrjimPhifer Message This was Preventable. tRUmp created this Catastrophe.\n",
      "Sentiment(polarity=0.0, subjectivity=0.0)\n",
      "RT @realDonaldTrump: Alan Dershowitz: Trump was ‘Absolutely Right‘ to Pardon Michael Flynn https://t.co/nMGOgOM9PP via @BreitbartNews\n",
      "Sentiment(polarity=0.2857142857142857, subjectivity=0.5357142857142857)\n",
      "RT @thebradfordfile: Trump is only one SCOTUS decision away from completely changing the narrative. \n",
      "\n",
      "The meltdown will be volcanic.\n",
      "Sentiment(polarity=0.05, subjectivity=0.7)\n",
      "RT @marceelias: I regularly tweet out Trump's record in court to make clear that nothing Trump or his allies are doing, or can do, will cha…\n",
      "Sentiment(polarity=0.05000000000000001, subjectivity=0.23012820512820512)\n"
     ]
    }
   ],
   "source": [
    "#TWEET and sentiment\n",
    "for tweet in public_tweets:\n",
    "    print(tweet.text)\n",
    "    analysis = TextBlob(tweet.text)\n",
    "    print(analysis.sentiment)"
   ]
  },
  {
   "cell_type": "code",
   "execution_count": 45,
   "metadata": {},
   "outputs": [],
   "source": [
    "#average sentiments for word Trump\n",
    "polarity = []\n",
    "for tweet in public_tweets:\n",
    "    polarity.append(TextBlob(tweet.text).sentiment.polarity)\n"
   ]
  },
  {
   "cell_type": "code",
   "execution_count": 46,
   "metadata": {},
   "outputs": [],
   "source": [
    "polarity = np.array(polarity)"
   ]
  },
  {
   "cell_type": "code",
   "execution_count": 47,
   "metadata": {},
   "outputs": [
    {
     "data": {
      "text/plain": [
       "0.10799200799200802"
      ]
     },
     "execution_count": 47,
     "metadata": {},
     "output_type": "execute_result"
    }
   ],
   "source": [
    "np.average(polarity)"
   ]
  },
  {
   "cell_type": "code",
   "execution_count": 48,
   "metadata": {},
   "outputs": [
    {
     "data": {
      "text/plain": [
       "13"
      ]
     },
     "execution_count": 48,
     "metadata": {},
     "output_type": "execute_result"
    }
   ],
   "source": [
    "len(polarity)"
   ]
  },
  {
   "cell_type": "code",
   "execution_count": 49,
   "metadata": {},
   "outputs": [],
   "source": [
    "polarity = np.array([TextBlob(twe.text).sentiment.polarity for twe in public_tweets] ) "
   ]
  },
  {
   "cell_type": "code",
   "execution_count": 50,
   "metadata": {},
   "outputs": [
    {
     "data": {
      "text/plain": [
       "0.10799200799200802"
      ]
     },
     "execution_count": 50,
     "metadata": {},
     "output_type": "execute_result"
    }
   ],
   "source": [
    "np.average(polarity)"
   ]
  },
  {
   "cell_type": "code",
   "execution_count": null,
   "metadata": {},
   "outputs": [],
   "source": []
  }
 ],
 "metadata": {
  "kernelspec": {
   "display_name": "Python 3",
   "language": "python",
   "name": "python3"
  },
  "language_info": {
   "codemirror_mode": {
    "name": "ipython",
    "version": 3
   },
   "file_extension": ".py",
   "mimetype": "text/x-python",
   "name": "python",
   "nbconvert_exporter": "python",
   "pygments_lexer": "ipython3",
   "version": "3.8.5"
  }
 },
 "nbformat": 4,
 "nbformat_minor": 4
}
